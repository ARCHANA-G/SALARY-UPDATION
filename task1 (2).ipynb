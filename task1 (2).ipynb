{
 "cells": [
  {
   "cell_type": "code",
   "execution_count": 1,
   "id": "a3cd694d",
   "metadata": {},
   "outputs": [],
   "source": [
    "import pymysql as ms"
   ]
  },
  {
   "cell_type": "code",
   "execution_count": 2,
   "id": "1e4f848d",
   "metadata": {},
   "outputs": [
    {
     "name": "stdout",
     "output_type": "stream",
     "text": [
      "Requirement already satisfied: pymysql in c:\\users\\think\\anaconda3\\lib\\site-packages (1.0.2)\n",
      "Note: you may need to restart the kernel to use updated packages.\n"
     ]
    }
   ],
   "source": [
    "pip install pymysql"
   ]
  },
  {
   "cell_type": "code",
   "execution_count": 3,
   "id": "844f8ae6",
   "metadata": {},
   "outputs": [],
   "source": [
    "con=ms.connect(host='localhost',database='employee',user='root',password='root',port=3306)"
   ]
  },
  {
   "cell_type": "markdown",
   "id": "9ba48308",
   "metadata": {},
   "source": [
    "create table "
   ]
  },
  {
   "cell_type": "code",
   "execution_count": 4,
   "id": "b4752955",
   "metadata": {},
   "outputs": [
    {
     "name": "stdout",
     "output_type": "stream",
     "text": [
      "create table succesfully\n"
     ]
    }
   ],
   "source": [
    "cur=con.cursor()\n",
    "query='create table emp_data1(Id int(20),Name varchar(20),salary float(10,2),no_of_leaves_in int)'\n",
    "cur.execute(query)\n",
    "print(\"create table succesfully\")\n",
    "cur.close()"
   ]
  },
  {
   "cell_type": "markdown",
   "id": "d090af0c",
   "metadata": {},
   "source": [
    "insert value"
   ]
  },
  {
   "cell_type": "code",
   "execution_count": 5,
   "id": "ae695785",
   "metadata": {},
   "outputs": [
    {
     "name": "stdout",
     "output_type": "stream",
     "text": [
      "record inserted\n"
     ]
    }
   ],
   "source": [
    "cur=con.cursor()\n",
    "datas=\"insert into emp_data1 values(%s,%s,%s,%s)\"\n",
    "values=[(1,'adila',7000,2),\n",
    "        (2,'kavya',5000,5),\n",
    "        (3,'vismaya',10000,3),\n",
    "        (4,'fasiya',35000,7),\n",
    "        (5,'anil',8500,0)]\n",
    "cur.executemany(datas,values)\n",
    "con.commit()\n",
    "print(\"record inserted\")\n",
    "cur.close()"
   ]
  },
  {
   "cell_type": "markdown",
   "id": "6d41107d",
   "metadata": {},
   "source": [
    "fetch the person with updated salary(if employee take one leave salary decrease by 200Rs)"
   ]
  },
  {
   "cell_type": "code",
   "execution_count": 7,
   "id": "8aba386a",
   "metadata": {},
   "outputs": [
    {
     "name": "stdout",
     "output_type": "stream",
     "text": [
      "updated\n"
     ]
    }
   ],
   "source": [
    "cur=con.cursor()\n",
    "query1=\"select Id,Name,salary,no_of_leaves_in,(salary-(no_of_leaves_in*200)) as updated_salary from emp_data1 \"\n",
    "cur.execute(query1)\n",
    "con.commit()\n",
    "print(\"updated\")\n",
    "cur.close()"
   ]
  },
  {
   "cell_type": "code",
   "execution_count": null,
   "id": "812f9cb9",
   "metadata": {},
   "outputs": [],
   "source": []
  },
  {
   "cell_type": "code",
   "execution_count": null,
   "id": "f0692514",
   "metadata": {},
   "outputs": [],
   "source": []
  },
  {
   "cell_type": "code",
   "execution_count": null,
   "id": "cda3fddc",
   "metadata": {},
   "outputs": [],
   "source": []
  }
 ],
 "metadata": {
  "kernelspec": {
   "display_name": "Python 3",
   "language": "python",
   "name": "python3"
  },
  "language_info": {
   "codemirror_mode": {
    "name": "ipython",
    "version": 3
   },
   "file_extension": ".py",
   "mimetype": "text/x-python",
   "name": "python",
   "nbconvert_exporter": "python",
   "pygments_lexer": "ipython3",
   "version": "3.8.8"
  }
 },
 "nbformat": 4,
 "nbformat_minor": 5
}
